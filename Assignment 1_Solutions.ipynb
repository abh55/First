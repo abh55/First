{
 "cells": [
  {
   "cell_type": "code",
   "execution_count": 2,
   "id": "8f0e39d8",
   "metadata": {},
   "outputs": [
    {
     "name": "stdout",
     "output_type": "stream",
     "text": [
      "Enter number: 86524428\n",
      "Last Digit=  8\n"
     ]
    }
   ],
   "source": [
    "#1. WAP to display the last digit of a number. Take number as input. (Don't use indexing for this)\n",
    "\n",
    "num = int(input(\"Enter number: \"))\n",
    "ld = num%10\n",
    "print(\"Last Digit= \", ld)"
   ]
  },
  {
   "cell_type": "code",
   "execution_count": 52,
   "id": "0c9802a1",
   "metadata": {},
   "outputs": [
    {
     "name": "stdout",
     "output_type": "stream",
     "text": [
      "Enter the string: How are you\n",
      "11\n"
     ]
    }
   ],
   "source": [
    "#2. WAP to calculate the count of elements in a string taken as input from the user without using len function\n",
    "\n",
    "str = input(\"Enter the string: \")\n",
    "c = 0\n",
    "for i in str:\n",
    "    c = c+1\n",
    "print(c)"
   ]
  },
  {
   "cell_type": "code",
   "execution_count": 15,
   "id": "cbd94d7a",
   "metadata": {},
   "outputs": [
    {
     "name": "stdout",
     "output_type": "stream",
     "text": [
      "Enter number: 1000\n",
      "Even\n"
     ]
    }
   ],
   "source": [
    "#3. WAP to check if a number is even or odd where number is taken as input.\n",
    "\n",
    "num = int(input(\"Enter number: \"))\n",
    "if(num%2 == 0): print(\"Even\")\n",
    "else: print(\"Odd\")"
   ]
  },
  {
   "cell_type": "code",
   "execution_count": 22,
   "id": "7be928d3",
   "metadata": {},
   "outputs": [
    {
     "name": "stdout",
     "output_type": "stream",
     "text": [
      "Enter number: 487926\n",
      "Not divisible by 7\n"
     ]
    }
   ],
   "source": [
    "#4. WAP to check if 3rd last digit of a number, taken as input, is divisible by 7 or not.\n",
    "\n",
    "num = int(input(\"Enter number: \"))\n",
    "num = int(num/100)\n",
    "c = num%10\n",
    "if(c%7 == 0): print(\"Divisible by 7\")\n",
    "else: print(\"Not divisible by 7\")"
   ]
  },
  {
   "cell_type": "code",
   "execution_count": 2,
   "id": "19ff81d5",
   "metadata": {},
   "outputs": [
    {
     "name": "stdout",
     "output_type": "stream",
     "text": [
      "Enter length of the list: 6\n",
      "Enter number: 2\n",
      "Enter number: 3\n",
      "Enter number: 4\n",
      "Enter number: 5\n",
      "Enter number: 10\n",
      "Enter number: 2\n",
      "Same\n"
     ]
    }
   ],
   "source": [
    "#5. WAP to check if the first and last number of a list is the same\n",
    "\n",
    "li = []\n",
    "n = int(input(\"Enter length of the list: \"))\n",
    "for i in range(n):\n",
    "    a = int(input(\"Enter number: \"))\n",
    "    li.append(a)\n",
    "if(li[len(li)-1] == li[0]):\n",
    "    print(\"Same\")\n",
    "else:\n",
    "    print(\"Different\")"
   ]
  },
  {
   "cell_type": "code",
   "execution_count": 50,
   "id": "726118a0",
   "metadata": {},
   "outputs": [
    {
     "name": "stdout",
     "output_type": "stream",
     "text": [
      "Enter taxable income: 1000000\n",
      "Tax =  60000.0\n"
     ]
    }
   ],
   "source": [
    "#6. WAP to calculate income tax for the input income by adhering to the Indian rules.\n",
    "\n",
    "income = int(input(\"Enter taxable income: \"))\n",
    "tax = 0\n",
    "if(income<=300000):\n",
    "    print(\"Tax = \",tax)\n",
    "elif(income>300000 and income<=600000):\n",
    "    print(\"Tax = \", (0.05*(income - 300000)))\n",
    "elif(income>600000 and income<=900000):\n",
    "    print(\"Tax = \", (15000 + 0.1*(income - 600000)))\n",
    "elif(income>900000 and income<=1200000):\n",
    "    print(\"Tax = \", (45000 + 0.15*(income - 900000)))\n",
    "elif(income>1200000 and income<=1500000):\n",
    "    print(\"Tax = \", (90000 + 0.20*(income - 1200000)))\n",
    "else:\n",
    "    print(\"Tax = \", (150000 + 0.30*(income - 1500000)))"
   ]
  },
  {
   "cell_type": "code",
   "execution_count": 10,
   "id": "2570615f",
   "metadata": {},
   "outputs": [
    {
     "name": "stdout",
     "output_type": "stream",
     "text": [
      "Enter a string: How are you\n",
      "Does not start with a vowel\n"
     ]
    }
   ],
   "source": [
    "#7. Write a Python program to check whether a string starts with vowel or not.\n",
    "\n",
    "str = input(\"Enter a string: \")\n",
    "vowels = ['a', 'e', 'i', 'o', 'u', 'A', 'E', 'I', 'O', 'U']\n",
    "c = 0\n",
    "for i in vowels:\n",
    "    if(i == str[0]):\n",
    "        c = 1\n",
    "if(c==1):\n",
    "    print(\"Starts with a vowel\")\n",
    "else:\n",
    "    print(\"Does not start with a vowel\")"
   ]
  },
  {
   "cell_type": "code",
   "execution_count": 24,
   "id": "ee2f2410",
   "metadata": {},
   "outputs": [
    {
     "name": "stdout",
     "output_type": "stream",
     "text": [
      "Enter maximum marks: 500\n",
      "Enter marks for subject 1: 40\n",
      "Enter marks for subject 2: 80\n",
      "Enter marks for subject 3: 100\n",
      "Enter marks for subject 4: 100\n",
      "Enter marks for subject 5: 90\n",
      "Percentage through 5 subjects:  82.0\n"
     ]
    }
   ],
   "source": [
    "#8. WAP to calculate percentage of a student through 5 subjects. Take marks as input from the user.\n",
    "\n",
    "max = int(input(\"Enter maximum marks: \"))\n",
    "s = 0\n",
    "for i in range(5):\n",
    "    n = int(input(f\"Enter marks for subject {i+1}: \"))\n",
    "    s = s + n\n",
    "print(\"Percentage through 5 subjects: \", (s/max)*100)"
   ]
  },
  {
   "cell_type": "code",
   "execution_count": 37,
   "id": "d1c48510",
   "metadata": {},
   "outputs": [
    {
     "name": "stdout",
     "output_type": "stream",
     "text": [
      "Enter value: 95.3\n",
      "95.3000\n"
     ]
    }
   ],
   "source": [
    "#9. WAP to convert '95.3' taken as input from the user into float value.\n",
    "\n",
    "n = input(\"Enter value: \")\n",
    "n = float(n)\n",
    "n = '{0:.4f}'.format(n)\n",
    "print(n)"
   ]
  },
  {
   "cell_type": "code",
   "execution_count": 39,
   "id": "411defb9",
   "metadata": {},
   "outputs": [
    {
     "name": "stdout",
     "output_type": "stream",
     "text": [
      "Enter Base: 8\n",
      "Enter Height: 6\n",
      "24.0\n"
     ]
    }
   ],
   "source": [
    "#10. WAP to calculate the surface area of a triangle. Take the required values as input.\n",
    "\n",
    "base = int(input(\"Enter Base: \"))\n",
    "height = int(input(\"Enter Height: \"))\n",
    "area = (1/2)*base*height\n",
    "print(area)"
   ]
  },
  {
   "cell_type": "code",
   "execution_count": 46,
   "id": "99bd352d",
   "metadata": {},
   "outputs": [
    {
     "name": "stdout",
     "output_type": "stream",
     "text": [
      "Enter which day to display: 6\n",
      "Saturday\n"
     ]
    }
   ],
   "source": [
    "#11. WAP to accept day number from a user and print the day. For example, if input = 1 output = Monday\n",
    "\n",
    "li = ['Monday', 'Tuesday', 'Wednesday', 'Thursday', 'Friday', 'Saturday','Sunday']\n",
    "n = int(input(\"Enter which day to display: \"))\n",
    "print(li[n-1])"
   ]
  },
  {
   "cell_type": "code",
   "execution_count": 47,
   "id": "27f70257",
   "metadata": {},
   "outputs": [
    {
     "name": "stdout",
     "output_type": "stream",
     "text": [
      "Enter Age: 20\n",
      "Eligible to vote\n"
     ]
    }
   ],
   "source": [
    "#12. WAP to check whether a person is eligible to vote or not based on their age.\n",
    "\n",
    "age = int(input(\"Enter Age: \"))\n",
    "if(age>=18):\n",
    "    print(\"Eligible to vote\")\n",
    "else:\n",
    "    print(\"Not eligible to vote\")"
   ]
  },
  {
   "cell_type": "code",
   "execution_count": null,
   "id": "f34df189",
   "metadata": {},
   "outputs": [],
   "source": []
  }
 ],
 "metadata": {
  "kernelspec": {
   "display_name": "Python 3 (ipykernel)",
   "language": "python",
   "name": "python3"
  },
  "language_info": {
   "codemirror_mode": {
    "name": "ipython",
    "version": 3
   },
   "file_extension": ".py",
   "mimetype": "text/x-python",
   "name": "python",
   "nbconvert_exporter": "python",
   "pygments_lexer": "ipython3",
   "version": "3.10.9"
  }
 },
 "nbformat": 4,
 "nbformat_minor": 5
}
